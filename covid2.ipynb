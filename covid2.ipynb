{
 "cells": [
  {
   "cell_type": "code",
   "execution_count": 89,
   "metadata": {},
   "outputs": [
    {
     "name": "stdout",
     "output_type": "stream",
     "text": [
      "Dataset saved to covid_dataset.csv\n"
     ]
    }
   ],
   "source": [
    "import ir_datasets\n",
    "import pandas as pd\n",
    "\n",
    "dataset = ir_datasets.load(\"cord19\")\n",
    "\n",
    "data = []\n",
    "\n",
    "for doc in dataset.docs_iter()[:20000]:  \n",
    " \n",
    "    data.append({\n",
    "        \"doc_id\": doc.doc_id,\n",
    "        \"title\": doc.title,\n",
    "        \"doi\": doc.doi,\n",
    "        \"date\": doc.date,\n",
    "        \"abstract\": doc.abstract\n",
    "    })\n",
    "\n",
    "df = pd.DataFrame(data)\n",
    "\n",
    "df.to_csv(\"covid_dataset.csv\", index=False)\n",
    "\n",
    "print(\"Dataset saved to covid_dataset.csv\")"
   ]
  },
  {
   "cell_type": "markdown",
   "metadata": {},
   "source": [
    "## Context"
   ]
  },
  {
   "cell_type": "markdown",
   "metadata": {},
   "source": [
    "The objective of the project is to do an information search system, including work on data collection and preparation, information querying and retrieval, and retrieval evaluation.\n",
    "\n",
    "The dataset used is a collection of scientific articles related to COVID-19. It uses the 2020-07-16 version of the dataset, corresponding to the \"complete\" collection used for TREC COVID."
   ]
  },
  {
   "cell_type": "markdown",
   "metadata": {},
   "source": [
    "## Characterization"
   ]
  },
  {
   "cell_type": "markdown",
   "metadata": {},
   "source": [
    "\n",
    "### Collection Characterization\n",
    "The data set consists of abstracts of articles published on the covid, has the following attributes:\n",
    "- `doc_i`: Document identifier\n",
    "- `title`: Article title\n",
    "- `doi`: Digital Object Identifier (DOI)\n",
    "- `date`: Publication date\n",
    "- `abstract`: Article abstract\n",
    "\n",
    "\n",
    "We selected approximately 20000 rows from the original dataset for our analysis, ensuring that all entries included an abstract.\n",
    "\n",
    "\n"
   ]
  },
  {
   "cell_type": "markdown",
   "metadata": {},
   "source": [
    "### Document Presentation\n",
    "An example of the data from our dataset is shown below:"
   ]
  },
  {
   "cell_type": "code",
   "execution_count": 90,
   "metadata": {},
   "outputs": [
    {
     "data": {
      "text/html": [
       "<div>\n",
       "<style scoped>\n",
       "    .dataframe tbody tr th:only-of-type {\n",
       "        vertical-align: middle;\n",
       "    }\n",
       "\n",
       "    .dataframe tbody tr th {\n",
       "        vertical-align: top;\n",
       "    }\n",
       "\n",
       "    .dataframe thead th {\n",
       "        text-align: right;\n",
       "    }\n",
       "</style>\n",
       "<table border=\"1\" class=\"dataframe\">\n",
       "  <thead>\n",
       "    <tr style=\"text-align: right;\">\n",
       "      <th></th>\n",
       "      <th>doc_id</th>\n",
       "      <th>title</th>\n",
       "      <th>doi</th>\n",
       "      <th>date</th>\n",
       "      <th>abstract</th>\n",
       "    </tr>\n",
       "  </thead>\n",
       "  <tbody>\n",
       "    <tr>\n",
       "      <th>0</th>\n",
       "      <td>ug7v899j</td>\n",
       "      <td>Clinical features of culture-proven Mycoplasma...</td>\n",
       "      <td>10.1186/1471-2334-1-6</td>\n",
       "      <td>2001-07-04</td>\n",
       "      <td>OBJECTIVE: This retrospective chart review des...</td>\n",
       "    </tr>\n",
       "    <tr>\n",
       "      <th>1</th>\n",
       "      <td>02tnwd4m</td>\n",
       "      <td>Nitric oxide: a pro-inflammatory mediator in l...</td>\n",
       "      <td>10.1186/rr14</td>\n",
       "      <td>2000-08-15</td>\n",
       "      <td>Inflammatory diseases of the respiratory tract...</td>\n",
       "    </tr>\n",
       "    <tr>\n",
       "      <th>2</th>\n",
       "      <td>ejv2xln0</td>\n",
       "      <td>Surfactant protein-D and pulmonary host defense</td>\n",
       "      <td>10.1186/rr19</td>\n",
       "      <td>2000-08-25</td>\n",
       "      <td>Surfactant protein-D (SP-D) participates in th...</td>\n",
       "    </tr>\n",
       "    <tr>\n",
       "      <th>3</th>\n",
       "      <td>2b73a28n</td>\n",
       "      <td>Role of endothelin-1 in lung disease</td>\n",
       "      <td>10.1186/rr44</td>\n",
       "      <td>2001-02-22</td>\n",
       "      <td>Endothelin-1 (ET-1) is a 21 amino acid peptide...</td>\n",
       "    </tr>\n",
       "    <tr>\n",
       "      <th>4</th>\n",
       "      <td>9785vg6d</td>\n",
       "      <td>Gene expression in epithelial cells in respons...</td>\n",
       "      <td>10.1186/rr61</td>\n",
       "      <td>2001-05-11</td>\n",
       "      <td>Respiratory syncytial virus (RSV) and pneumoni...</td>\n",
       "    </tr>\n",
       "  </tbody>\n",
       "</table>\n",
       "</div>"
      ],
      "text/plain": [
       "     doc_id                                              title  \\\n",
       "0  ug7v899j  Clinical features of culture-proven Mycoplasma...   \n",
       "1  02tnwd4m  Nitric oxide: a pro-inflammatory mediator in l...   \n",
       "2  ejv2xln0    Surfactant protein-D and pulmonary host defense   \n",
       "3  2b73a28n               Role of endothelin-1 in lung disease   \n",
       "4  9785vg6d  Gene expression in epithelial cells in respons...   \n",
       "\n",
       "                     doi        date  \\\n",
       "0  10.1186/1471-2334-1-6  2001-07-04   \n",
       "1           10.1186/rr14  2000-08-15   \n",
       "2           10.1186/rr19  2000-08-25   \n",
       "3           10.1186/rr44  2001-02-22   \n",
       "4           10.1186/rr61  2001-05-11   \n",
       "\n",
       "                                            abstract  \n",
       "0  OBJECTIVE: This retrospective chart review des...  \n",
       "1  Inflammatory diseases of the respiratory tract...  \n",
       "2  Surfactant protein-D (SP-D) participates in th...  \n",
       "3  Endothelin-1 (ET-1) is a 21 amino acid peptide...  \n",
       "4  Respiratory syncytial virus (RSV) and pneumoni...  "
      ]
     },
     "execution_count": 90,
     "metadata": {},
     "output_type": "execute_result"
    }
   ],
   "source": [
    "df.head(5)"
   ]
  },
  {
   "cell_type": "markdown",
   "metadata": {},
   "source": [
    "### Removing Rows with Invalid Data Formats"
   ]
  },
  {
   "cell_type": "code",
   "execution_count": 91,
   "metadata": {},
   "outputs": [
    {
     "name": "stdout",
     "output_type": "stream",
     "text": [
      "Original number of rows: 20000\n",
      "Number of rows after removing NaT entries: 17696\n"
     ]
    }
   ],
   "source": [
    "df['date'] = pd.to_datetime(df['date'], errors='coerce')\n",
    "print(f\"Original number of rows: {len(df)}\")\n",
    "\n",
    "df = df.dropna(subset=['date'])\n",
    "print(f\"Number of rows after removing NaT entries: {len(df)}\")"
   ]
  },
  {
   "cell_type": "markdown",
   "metadata": {},
   "source": [
    "### Exploratory Data Analysis\n",
    "#### title"
   ]
  },
  {
   "cell_type": "code",
   "execution_count": 92,
   "metadata": {},
   "outputs": [
    {
     "name": "stdout",
     "output_type": "stream",
     "text": [
      "The dataset contains 96.7% unique titles.\n"
     ]
    }
   ],
   "source": [
    "distinct_titles = df['title'].nunique()\n",
    "total_titles = df['title'].count()\n",
    "\n",
    "percentage_unique = (distinct_titles / total_titles) * 100\n",
    "\n",
    "print(f\"The dataset contains {percentage_unique:.1f}% unique titles.\")"
   ]
  },
  {
   "cell_type": "markdown",
   "metadata": {},
   "source": [
    "#### date"
   ]
  },
  {
   "cell_type": "code",
   "execution_count": 93,
   "metadata": {},
   "outputs": [
    {
     "name": "stdout",
     "output_type": "stream",
     "text": [
      "The dataset contains 28.9% unique dates.\n"
     ]
    }
   ],
   "source": [
    "distinct_dates = df['date'].nunique()\n",
    "total_dates = df['date'].count()\n",
    "\n",
    "percentage_unique = (distinct_dates / total_dates) * 100\n",
    "\n",
    "print(f\"The dataset contains {percentage_unique:.1f}% unique dates.\")"
   ]
  },
  {
   "cell_type": "code",
   "execution_count": 94,
   "metadata": {},
   "outputs": [
    {
     "name": "stdout",
     "output_type": "stream",
     "text": [
      "Documents span from 1962 to 2020, a total of 58 years.\n"
     ]
    }
   ],
   "source": [
    "min_date = df['date'].min()\n",
    "max_date = df['date'].max()\n",
    "\n",
    "diff_years = round((max_date - min_date).days / 365.25)\n",
    "min_date_year = min_date.year\n",
    "max_date_year = max_date.year\n",
    "\n",
    "print(f\"Documents span from {min_date_year} to {max_date_year}, a total of {diff_years} years.\")"
   ]
  },
  {
   "cell_type": "code",
   "execution_count": 95,
   "metadata": {},
   "outputs": [
    {
     "data": {
      "image/png": "[encoded data removed]",
      "text/plain": [
       "<Figure size 1000x600 with 1 Axes>"
      ]
     },
     "metadata": {},
     "output_type": "display_data"
    }
   ],
   "source": [
    "import matplotlib.pyplot as plt\n",
    "\n",
    "df['year'] = df['date'].dt.year\n",
    "documents_per_year = df.groupby('year').size()\n",
    "\n",
    "plt.figure(figsize=(10,6))\n",
    "documents_per_year.plot(kind='bar')\n",
    "plt.title('Number of Documents Per Year')\n",
    "plt.xlabel('Year')\n",
    "plt.ylabel('Number of Documents')\n",
    "plt.show()"
   ]
  },
  {
   "cell_type": "markdown",
   "metadata": {},
   "source": [
    "## Prospective Search Task\n",
    "\n",
    "### Description\n",
    "\n",
    "The aim of this project is to build an information retrieval system that can effectively search and retrieve relevant scientific articles on COVID. The system should handle multiple query types across various topics and provide comprehensive results. Below are the key search tasks:\n",
    "\n",
    "### Search Tasks\n",
    "\n",
    "1. **Find articles about specific COVID variants by their name (e.g., Delta, Omicron) or genomic mutations.**\n",
    "\n",
    "2. **Search information about COVID spread (e.g. its transmission routes).**\n",
    "\n",
    "3. **Search for COVID symptoms, diagnostic criteria, and clinical presentation.**  \n",
    "\n",
    "4. **Search therapeutic strategies, clinical management of COVID cases, and recovery protocols** \n",
    "\n",
    "5. **Search developed vaccines, their efficacy, distribution, and the use of therapeutic drugs.**\n",
    "\n"
   ]
  }
 ],
 "metadata": {
  "kernelspec": {
   "display_name": "Python 3",
   "language": "python",
   "name": "python3"
  },
  "language_info": {
   "codemirror_mode": {
    "name": "ipython",
    "version": 3
   },
   "file_extension": ".py",
   "mimetype": "text/x-python",
   "name": "python",
   "nbconvert_exporter": "python",
   "pygments_lexer": "ipython3",
   "version": "3.11.9"
  }
 },
 "nbformat": 4,
 "nbformat_minor": 2
}
