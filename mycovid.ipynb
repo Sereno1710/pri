{
 "cells": [
  {
   "cell_type": "markdown",
   "metadata": {},
   "source": [
    "## Characterization"
   ]
  },
  {
   "cell_type": "markdown",
   "metadata": {},
   "source": [
    "\n",
    "### Collection Characterization\n",
    "The data set consists of abstracts of articles published on the covid, has the following attributes:\n",
    "- `doc_i`: Document identifier\n",
    "- `title`: Article title\n",
    "- `doi`': Digital Object Identifier (DOI)\n",
    "- `date`': Publication date\n",
    "- `abstract`': Article abstract\n",
    "\n",
    "\n",
    "We selected approximately X rows from the original dataset for our analysis, ensuring that all entries included an abstract.\n",
    "\n",
    "\n"
   ]
  },
  {
   "cell_type": "code",
   "execution_count": 3,
   "metadata": {},
   "outputs": [],
   "source": [
    "min_date = pd.to_datetime(df['date'].min())\n",
    "max_date = pd.to_datetime(df['date'].max())\n",
    "diff_years = round((max_date - min_date).days / 365.25)\n",
    "min_date_year = min_date.year\n",
    "max_date_year = max_date.year\n",
    "\n"
   ]
  },
  {
   "cell_type": "markdown",
   "metadata": {},
   "source": [
    "The publication dates of the articles in the dataset range from [start date] to [end date], spanning [number of years]."
   ]
  },
  {
   "cell_type": "code",
   "execution_count": 5,
   "metadata": {},
   "outputs": [
    {
     "name": "stdout",
     "output_type": "stream",
     "text": [
      "128\n"
     ]
    }
   ],
   "source": [
    "df['word_count_abstract'] = df['abstract'].apply(lambda x: len(str(x).split()))\n",
    "average_word_count = round(df['word_count_abstract'].mean())\n",
    "print(average_word_count)\n"
   ]
  },
  {
   "cell_type": "markdown",
   "metadata": {},
   "source": [
    "The abstracts of the COVID documents in the dataset contain an average of [average_word_count] word"
   ]
  },
  {
   "cell_type": "markdown",
   "metadata": {},
   "source": [
    "### Document Presentation\n",
    "An example of the data from our dataset is shown below:"
   ]
  },
  {
   "cell_type": "code",
   "execution_count": 30,
   "metadata": {},
   "outputs": [],
   "source": [
    "df = pd.DataFrame(data)\n",
    "first_five_rows = df.head(5)  \n",
    "first_five_rowsrow_to_display = df.iloc[0]\n",
    "first_five_rows\n"
   ]
  },
  {
   "cell_type": "code",
   "execution_count": null,
   "metadata": {},
   "outputs": [],
   "source": []
  }
 ],
 "metadata": {
  "kernelspec": {
   "display_name": "base",
   "language": "python",
   "name": "python3"
  },
  "language_info": {
   "codemirror_mode": {
    "name": "ipython",
    "version": 3
   },
   "file_extension": ".py",
   "mimetype": "text/x-python",
   "name": "python",
   "nbconvert_exporter": "python",
   "pygments_lexer": "ipython3",
   "version": "3.11.7"
  }
 },
 "nbformat": 4,
 "nbformat_minor": 2
}
