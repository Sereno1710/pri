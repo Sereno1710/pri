{
 "cells": [
  {
   "cell_type": "code",
   "execution_count": 3,
   "metadata": {},
   "outputs": [
    {
     "name": "stdout",
     "output_type": "stream",
     "text": [
      "Dataset saved to covid_dataset.csv\n"
     ]
    }
   ],
   "source": [
    "import ir_datasets\n",
    "import pandas as pd\n",
    "\n",
    "dataset = ir_datasets.load(\"cord19\")\n",
    "\n",
    "data = []\n",
    "\n",
    "for doc in dataset.docs_iter()[:20000]:  \n",
    " \n",
    "    data.append({\n",
    "        \"doc_id\": doc.doc_id,\n",
    "        \"title\": doc.title,\n",
    "        \"doi\": doc.doi,\n",
    "        \"date\": doc.date,\n",
    "        \"abstract\": doc.abstract\n",
    "    })\n",
    "\n",
    "df = pd.DataFrame(data)\n",
    "\n",
    "df.to_csv(\"covid_dataset.csv\", index=False)\n",
    "\n",
    "print(\"Dataset saved to covid_dataset.csv\")"
   ]
  }
 ],
 "metadata": {
  "kernelspec": {
   "display_name": "Python 3",
   "language": "python",
   "name": "python3"
  },
  "language_info": {
   "codemirror_mode": {
    "name": "ipython",
    "version": 3
   },
   "file_extension": ".py",
   "mimetype": "text/x-python",
   "name": "python",
   "nbconvert_exporter": "python",
   "pygments_lexer": "ipython3",
   "version": "3.10.11"
  }
 },
 "nbformat": 4,
 "nbformat_minor": 2
}
